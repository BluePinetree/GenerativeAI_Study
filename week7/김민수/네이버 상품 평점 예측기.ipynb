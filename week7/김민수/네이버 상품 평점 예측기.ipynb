{
 "cells": [
  {
   "cell_type": "code",
   "execution_count": 1,
   "id": "f07abe83",
   "metadata": {},
   "outputs": [],
   "source": [
    "import matplotlib\n",
    "\n",
    "matplotlib.rcParams['font.family'] ='Malgun Gothic'\n",
    "matplotlib.rcParams['axes.unicode_minus'] =False"
   ]
  },
  {
   "cell_type": "code",
   "execution_count": 2,
   "id": "a8e3d9f3",
   "metadata": {},
   "outputs": [
    {
     "name": "stderr",
     "output_type": "stream",
     "text": [
      "C:\\Users\\alstn\\anaconda3\\lib\\site-packages\\scipy\\__init__.py:155: UserWarning: A NumPy version >=1.18.5 and <1.25.0 is required for this version of SciPy (detected version 1.26.3\n",
      "  warnings.warn(f\"A NumPy version >={np_minversion} and <{np_maxversion}\"\n"
     ]
    }
   ],
   "source": [
    "# 라이브러리 가져오기\n",
    "import numpy as np\n",
    "import matplotlib.pyplot as plt\n",
    "import pandas as pd\n",
    "import os, re\n",
    "import seaborn as sns\n",
    "\n",
    "from wordcloud import wordcloud\n",
    "%matplotlib inline"
   ]
  },
  {
   "cell_type": "markdown",
   "id": "c4e93193",
   "metadata": {},
   "source": [
    "# 데이터 불러오기"
   ]
  },
  {
   "cell_type": "code",
   "execution_count": 3,
   "id": "d75646eb",
   "metadata": {},
   "outputs": [],
   "source": [
    "train_data = pd.read_csv('train.csv', header=0)\n",
    "x_test = pd.read_csv('test.csv', header=0)\n",
    "y_test = pd.read_csv('sample_submission.csv', header=0)"
   ]
  },
  {
   "cell_type": "markdown",
   "id": "403a14c7",
   "metadata": {},
   "source": [
    "#### 상품 평점 예측"
   ]
  },
  {
   "cell_type": "code",
   "execution_count": 4,
   "id": "2cc06f80",
   "metadata": {},
   "outputs": [
    {
     "data": {
      "text/plain": [
       "((25000, 3), (25000, 2), (25000, 2))"
      ]
     },
     "execution_count": 4,
     "metadata": {},
     "output_type": "execute_result"
    }
   ],
   "source": [
    "train_data.shape, x_test.shape, y_test.shape"
   ]
  },
  {
   "cell_type": "code",
   "execution_count": 5,
   "id": "b0af86d6",
   "metadata": {},
   "outputs": [
    {
     "data": {
      "text/html": [
       "<div>\n",
       "<style scoped>\n",
       "    .dataframe tbody tr th:only-of-type {\n",
       "        vertical-align: middle;\n",
       "    }\n",
       "\n",
       "    .dataframe tbody tr th {\n",
       "        vertical-align: top;\n",
       "    }\n",
       "\n",
       "    .dataframe thead th {\n",
       "        text-align: right;\n",
       "    }\n",
       "</style>\n",
       "<table border=\"1\" class=\"dataframe\">\n",
       "  <thead>\n",
       "    <tr style=\"text-align: right;\">\n",
       "      <th></th>\n",
       "      <th>id</th>\n",
       "      <th>reviews</th>\n",
       "      <th>target</th>\n",
       "    </tr>\n",
       "  </thead>\n",
       "  <tbody>\n",
       "    <tr>\n",
       "      <th>0</th>\n",
       "      <td>0</td>\n",
       "      <td>조아요 처음구입 싸게햇어요</td>\n",
       "      <td>2</td>\n",
       "    </tr>\n",
       "    <tr>\n",
       "      <th>1</th>\n",
       "      <td>1</td>\n",
       "      <td>생각보다 잘 안돼요 매지 바른지 하루밖에 안됐는데ㅠㅠ 25천원가량 주고 사기 너무 ...</td>\n",
       "      <td>1</td>\n",
       "    </tr>\n",
       "    <tr>\n",
       "      <th>2</th>\n",
       "      <td>2</td>\n",
       "      <td>디자인은괜찮은데 상품이 금이가서 교환했는데 두번째받은상품도 까져있고 안쪽에 금이가져...</td>\n",
       "      <td>2</td>\n",
       "    </tr>\n",
       "    <tr>\n",
       "      <th>3</th>\n",
       "      <td>3</td>\n",
       "      <td>기전에 이 제품말고 이마트 트레이더스에서만 팔던 프리미엄 제품을 사용했었습니다. 샘...</td>\n",
       "      <td>2</td>\n",
       "    </tr>\n",
       "  </tbody>\n",
       "</table>\n",
       "</div>"
      ],
      "text/plain": [
       "   id                                            reviews  target\n",
       "0   0                                     조아요 처음구입 싸게햇어요       2\n",
       "1   1  생각보다 잘 안돼요 매지 바른지 하루밖에 안됐는데ㅠㅠ 25천원가량 주고 사기 너무 ...       1\n",
       "2   2  디자인은괜찮은데 상품이 금이가서 교환했는데 두번째받은상품도 까져있고 안쪽에 금이가져...       2\n",
       "3   3  기전에 이 제품말고 이마트 트레이더스에서만 팔던 프리미엄 제품을 사용했었습니다. 샘...       2"
      ]
     },
     "execution_count": 5,
     "metadata": {},
     "output_type": "execute_result"
    }
   ],
   "source": [
    "train_data.head(4)"
   ]
  },
  {
   "cell_type": "code",
   "execution_count": 6,
   "id": "7d101ea9",
   "metadata": {},
   "outputs": [
    {
     "data": {
      "text/html": [
       "<div>\n",
       "<style scoped>\n",
       "    .dataframe tbody tr th:only-of-type {\n",
       "        vertical-align: middle;\n",
       "    }\n",
       "\n",
       "    .dataframe tbody tr th {\n",
       "        vertical-align: top;\n",
       "    }\n",
       "\n",
       "    .dataframe thead th {\n",
       "        text-align: right;\n",
       "    }\n",
       "</style>\n",
       "<table border=\"1\" class=\"dataframe\">\n",
       "  <thead>\n",
       "    <tr style=\"text-align: right;\">\n",
       "      <th></th>\n",
       "      <th>id</th>\n",
       "      <th>reviews</th>\n",
       "    </tr>\n",
       "  </thead>\n",
       "  <tbody>\n",
       "    <tr>\n",
       "      <th>0</th>\n",
       "      <td>0</td>\n",
       "      <td>채소가 약간 시들어 있어요</td>\n",
       "    </tr>\n",
       "  </tbody>\n",
       "</table>\n",
       "</div>"
      ],
      "text/plain": [
       "   id         reviews\n",
       "0   0  채소가 약간 시들어 있어요"
      ]
     },
     "execution_count": 6,
     "metadata": {},
     "output_type": "execute_result"
    }
   ],
   "source": [
    "x_test.head(1)"
   ]
  },
  {
   "cell_type": "code",
   "execution_count": 7,
   "id": "ea23d916",
   "metadata": {},
   "outputs": [
    {
     "data": {
      "text/html": [
       "<div>\n",
       "<style scoped>\n",
       "    .dataframe tbody tr th:only-of-type {\n",
       "        vertical-align: middle;\n",
       "    }\n",
       "\n",
       "    .dataframe tbody tr th {\n",
       "        vertical-align: top;\n",
       "    }\n",
       "\n",
       "    .dataframe thead th {\n",
       "        text-align: right;\n",
       "    }\n",
       "</style>\n",
       "<table border=\"1\" class=\"dataframe\">\n",
       "  <thead>\n",
       "    <tr style=\"text-align: right;\">\n",
       "      <th></th>\n",
       "      <th>id</th>\n",
       "      <th>target</th>\n",
       "    </tr>\n",
       "  </thead>\n",
       "  <tbody>\n",
       "    <tr>\n",
       "      <th>0</th>\n",
       "      <td>0</td>\n",
       "      <td>0</td>\n",
       "    </tr>\n",
       "  </tbody>\n",
       "</table>\n",
       "</div>"
      ],
      "text/plain": [
       "   id  target\n",
       "0   0       0"
      ]
     },
     "execution_count": 7,
     "metadata": {},
     "output_type": "execute_result"
    }
   ],
   "source": [
    "y_test.head(1)"
   ]
  },
  {
   "cell_type": "markdown",
   "id": "2bdcb3af",
   "metadata": {},
   "source": [
    "# 텍스트 분포 확인"
   ]
  },
  {
   "cell_type": "code",
   "execution_count": 8,
   "id": "f29685bb",
   "metadata": {},
   "outputs": [],
   "source": [
    "train_len = train_data['reviews'].astype(str).apply(len)"
   ]
  },
  {
   "cell_type": "code",
   "execution_count": 9,
   "id": "af0d99f3",
   "metadata": {},
   "outputs": [
    {
     "data": {
      "image/png": "[encoded data removed]",
      "text/plain": [
       "<Figure size 640x480 with 1 Axes>"
      ]
     },
     "metadata": {},
     "output_type": "display_data"
    }
   ],
   "source": [
    "plt.hist(train_len, bins=200)\n",
    "plt.ylabel('리뷰 개수')\n",
    "plt.xlabel('해당되는 리뷰 개수')\n",
    "plt.show()"
   ]
  },
  {
   "cell_type": "markdown",
   "id": "709c669b",
   "metadata": {},
   "source": [
    "# 단어의 수로 분포확인"
   ]
  },
  {
   "cell_type": "code",
   "execution_count": 10,
   "id": "379bce7a",
   "metadata": {},
   "outputs": [],
   "source": [
    "train_word = train_data['reviews'].apply(lambda x :len(x.split(' ')))"
   ]
  },
  {
   "cell_type": "code",
   "execution_count": 11,
   "id": "8e998e55",
   "metadata": {},
   "outputs": [
    {
     "data": {
      "text/plain": [
       "count    25000.000000\n",
       "mean         8.620000\n",
       "std          6.619492\n",
       "min          1.000000\n",
       "25%          4.000000\n",
       "50%          6.000000\n",
       "75%         12.000000\n",
       "max         45.000000\n",
       "Name: reviews, dtype: float64"
      ]
     },
     "execution_count": 11,
     "metadata": {},
     "output_type": "execute_result"
    }
   ],
   "source": [
    "train_word.describe()"
   ]
  },
  {
   "cell_type": "code",
   "execution_count": 12,
   "id": "06bb83f6",
   "metadata": {},
   "outputs": [
    {
     "data": {
      "image/png": "[encoded data removed]",
      "text/plain": [
       "<Figure size 640x480 with 1 Axes>"
      ]
     },
     "metadata": {},
     "output_type": "display_data"
    }
   ],
   "source": [
    "plt.hist(train_word, bins=20)\n",
    "plt.ylabel('단어 개수')\n",
    "plt.xlabel('해당되는 리뷰 개수')\n",
    "plt.show()"
   ]
  },
  {
   "cell_type": "markdown",
   "id": "76651fa3",
   "metadata": {},
   "source": [
    "# 평점 분포"
   ]
  },
  {
   "cell_type": "code",
   "execution_count": 13,
   "id": "f462cfa4",
   "metadata": {},
   "outputs": [
    {
     "data": {
      "text/plain": [
       "5    10000\n",
       "2     8000\n",
       "1     4500\n",
       "4     2500\n",
       "Name: target, dtype: int64"
      ]
     },
     "execution_count": 13,
     "metadata": {},
     "output_type": "execute_result"
    }
   ],
   "source": [
    "train_data['target'].value_counts()"
   ]
  },
  {
   "cell_type": "code",
   "execution_count": 14,
   "id": "d1a37af2",
   "metadata": {},
   "outputs": [],
   "source": [
    "train_value = train_data['target'].value_counts()"
   ]
  },
  {
   "cell_type": "code",
   "execution_count": 15,
   "id": "698d98fe",
   "metadata": {},
   "outputs": [
    {
     "data": {
      "text/plain": [
       "Text(0.5, 1.0, '평점 분포')"
      ]
     },
     "execution_count": 15,
     "metadata": {},
     "output_type": "execute_result"
    },
    {
     "data": {
      "image/png": "[encoded data removed]",
      "text/plain": [
       "<Figure size 640x480 with 1 Axes>"
      ]
     },
     "metadata": {},
     "output_type": "display_data"
    }
   ],
   "source": [
    "x = train_value.index\n",
    "y = train_value.values\n",
    "\n",
    "plt.bar(x, y, color=['r', 'g', 'b', 'gray'], alpha=0.5)\n",
    "plt.xlabel('평점')\n",
    "plt.ylabel('리뷰 개수')\n",
    "plt.title('평점 분포')"
   ]
  },
  {
   "cell_type": "markdown",
   "id": "b98d0a56",
   "metadata": {},
   "source": [
    "# 데이터 전처리"
   ]
  },
  {
   "cell_type": "code",
   "execution_count": 16,
   "id": "b0b1ea00",
   "metadata": {},
   "outputs": [
    {
     "name": "stdout",
     "output_type": "stream",
     "text": [
      "WARNING:tensorflow:From C:\\Users\\alstn\\anaconda3\\lib\\site-packages\\keras\\src\\losses.py:2976: The name tf.losses.sparse_softmax_cross_entropy is deprecated. Please use tf.compat.v1.losses.sparse_softmax_cross_entropy instead.\n",
      "\n"
     ]
    }
   ],
   "source": [
    "import re\n",
    "import json\n",
    "from konlpy.tag import Okt\n",
    "from tensorflow.keras.preprocessing.text import Tokenizer\n",
    "from tensorflow.keras.preprocessing.sequence import pad_sequences\n",
    "\n",
    "from tqdm import tqdm"
   ]
  },
  {
   "cell_type": "code",
   "execution_count": 17,
   "id": "5799d5e8",
   "metadata": {},
   "outputs": [],
   "source": [
    "train_reviews = [review for review in train_data['reviews'] if type(review) is str]"
   ]
  },
  {
   "cell_type": "code",
   "execution_count": 18,
   "id": "b6df3e51",
   "metadata": {},
   "outputs": [
    {
     "data": {
      "text/plain": [
       "(['조아요 처음구입 싸게햇어요',\n",
       "  '생각보다 잘 안돼요 매지 바른지 하루밖에 안됐는데ㅠㅠ 25천원가량 주고 사기 너무 아깝네요',\n",
       "  '디자인은괜찮은데 상품이 금이가서 교환했는데 두번째받은상품도 까져있고 안쪽에 금이가져있네요 ㅠ 귀찮아서 그냥쓰려구요 배송기사님은 친절하셨어요'],\n",
       " 25000)"
      ]
     },
     "execution_count": 18,
     "metadata": {},
     "output_type": "execute_result"
    }
   ],
   "source": [
    "train_reviews[:3], len(train_reviews)"
   ]
  },
  {
   "cell_type": "markdown",
   "id": "8c55eed7",
   "metadata": {},
   "source": [
    "### 정규표현식을 이용한 한글 이외 처리"
   ]
  },
  {
   "cell_type": "code",
   "execution_count": 19,
   "id": "1e987e79",
   "metadata": {},
   "outputs": [
    {
     "data": {
      "text/plain": [
       "'재구매 별로별로별로별로 불량품 교환이나 환불 미흡 고객센터 개인 휴대폰번호 이제 다른곳으로 주문,,, 별로별로'"
      ]
     },
     "execution_count": 19,
     "metadata": {},
     "output_type": "execute_result"
    }
   ],
   "source": [
    "train_data['reviews'][16]"
   ]
  },
  {
   "cell_type": "code",
   "execution_count": 20,
   "id": "091e3741",
   "metadata": {},
   "outputs": [
    {
     "data": {
      "text/plain": [
       "'재구매 별로별로별로별로 불량품 교환이나 환불 미흡 고객센터 개인 휴대폰번호 이제 다른곳으로 주문 별로별로'"
      ]
     },
     "execution_count": 20,
     "metadata": {},
     "output_type": "execute_result"
    }
   ],
   "source": [
    "re.sub('[^가-힣ㄱ-ㅎㅏ-ㅣ\\\\s]', '', train_data['reviews'][16])"
   ]
  },
  {
   "cell_type": "code",
   "execution_count": 21,
   "id": "69a1d160",
   "metadata": {},
   "outputs": [],
   "source": [
    "train_data['reviews'] = train_data['reviews'].astype(str).apply(lambda x : re.sub('[^가-힣ㄱ-ㅎㅏ-ㅣ\\\\s]', '', x))"
   ]
  },
  {
   "cell_type": "markdown",
   "id": "8f950424",
   "metadata": {},
   "source": [
    "# 형태소 분석"
   ]
  },
  {
   "cell_type": "code",
   "execution_count": 22,
   "id": "8e894f27",
   "metadata": {},
   "outputs": [],
   "source": [
    "okt = Okt()"
   ]
  },
  {
   "cell_type": "code",
   "execution_count": 23,
   "id": "0278886f",
   "metadata": {},
   "outputs": [
    {
     "data": {
      "text/plain": [
       "'재구매 별로별로별로별로 불량품 교환이나 환불 미흡 고객센터 개인 휴대폰번호 이제 다른곳으로 주문 별로별로'"
      ]
     },
     "execution_count": 23,
     "metadata": {},
     "output_type": "execute_result"
    }
   ],
   "source": [
    "train_data['reviews'][16]"
   ]
  },
  {
   "cell_type": "code",
   "execution_count": 24,
   "id": "d0a0488a",
   "metadata": {},
   "outputs": [
    {
     "data": {
      "text/plain": [
       "['재다',\n",
       " '별로',\n",
       " '별로',\n",
       " '별로',\n",
       " '별로',\n",
       " '불량품',\n",
       " '교환',\n",
       " '이나',\n",
       " '환불',\n",
       " '미흡',\n",
       " '고객',\n",
       " '센터',\n",
       " '개인',\n",
       " '휴대폰번호',\n",
       " '이제',\n",
       " '다른',\n",
       " '곳',\n",
       " '으로',\n",
       " '주문',\n",
       " '별로',\n",
       " '별로']"
      ]
     },
     "execution_count": 24,
     "metadata": {},
     "output_type": "execute_result"
    }
   ],
   "source": [
    "okt.morphs(train_data['reviews'][16], stem=True)"
   ]
  },
  {
   "cell_type": "code",
   "execution_count": 25,
   "id": "e696d479",
   "metadata": {},
   "outputs": [
    {
     "name": "stdout",
     "output_type": "stream",
     "text": [
      "품사 태깅 결과: [('재구매', 'Verb'), ('별로', 'Noun'), ('별로', 'Noun'), ('별로', 'Noun'), ('별로', 'Noun'), ('불량품', 'Noun'), ('교환', 'Noun'), ('이나', 'Josa'), ('환불', 'Noun'), ('미흡', 'Noun'), ('고객', 'Noun'), ('센터', 'Noun'), ('개인', 'Noun'), ('휴대폰번호', 'Noun'), ('이제', 'Noun'), ('다른', 'Modifier'), ('곳', 'Noun'), ('으로', 'Josa'), ('주문', 'Noun'), ('별로', 'Noun'), ('별로', 'Noun')]\n"
     ]
    }
   ],
   "source": [
    "print(\"품사 태깅 결과:\", okt.pos(train_data['reviews'][16]))"
   ]
  },
  {
   "cell_type": "code",
   "execution_count": 26,
   "id": "1d58705e",
   "metadata": {},
   "outputs": [
    {
     "name": "stdout",
     "output_type": "stream",
     "text": [
      "명사 추출 결과: ['별로', '별로', '별로', '별로', '불량품', '교환', '환불', '미흡', '고객', '센터', '개인', '휴대폰번호', '이제', '곳', '주문', '별로', '별로']\n"
     ]
    }
   ],
   "source": [
    "print(\"명사 추출 결과:\", okt.nouns(train_data['reviews'][16]))"
   ]
  },
  {
   "cell_type": "code",
   "execution_count": 27,
   "id": "784cbb82",
   "metadata": {},
   "outputs": [
    {
     "name": "stdout",
     "output_type": "stream",
     "text": [
      "['어제', '먹다', '오늘', '먹다', '낫다', '?']\n"
     ]
    }
   ],
   "source": [
    "from konlpy.tag import Okt\n",
    "\n",
    "# Okt 객체 생성\n",
    "okt = Okt()\n",
    "\n",
    "# 형태소 분석 및 원형 추출\n",
    "text = \"어제 먹었던게 오늘 먹은거보다 나은데?\"\n",
    "word_review = okt.morphs(text, stem=True)\n",
    "print(word_review)\n"
   ]
  },
  {
   "cell_type": "code",
   "execution_count": 28,
   "id": "45e2cf69",
   "metadata": {},
   "outputs": [
    {
     "name": "stdout",
     "output_type": "stream",
     "text": [
      "['어제', '먹었던게', '오늘', '먹은거보다', '나은데', '?']\n"
     ]
    }
   ],
   "source": [
    "from konlpy.tag import Okt\n",
    "\n",
    "# Okt 객체 생성\n",
    "okt = Okt()\n",
    "\n",
    "# 형태소 분석 및 원형 추출\n",
    "text = \"어제 먹었던게 오늘 먹은거보다 나은데?\"\n",
    "word_review = okt.morphs(text, stem=False)\n",
    "print(word_review)\n"
   ]
  },
  {
   "cell_type": "markdown",
   "id": "14bdffcf",
   "metadata": {},
   "source": [
    "# 형태소 단위 분석후 불용어 제거(은는이가)"
   ]
  },
  {
   "cell_type": "code",
   "execution_count": 29,
   "id": "1ebebb8f",
   "metadata": {},
   "outputs": [],
   "source": [
    "stop_words = ['은', '는', '이', '가', '하', '아', '것', '들', '의',\n",
    "              '있', '되', '수', '보', '주', '등', '한']"
   ]
  },
  {
   "cell_type": "code",
   "execution_count": 30,
   "id": "7bb44780",
   "metadata": {},
   "outputs": [],
   "source": [
    "def preprocessing(text, okt, remove_stopwords=False, stop_words=[]):\n",
    "    # 1. 형태소 분석\n",
    "    word_review = okt.morphs(text, stem=True)\n",
    "    # 2. True인 경우 불용어 제거\n",
    "    if remove_stopwords and len(stop_words) > 0:\n",
    "        word_review = [word for word in word_review if word not in stop_words]\n",
    "    return word_review"
   ]
  },
  {
   "cell_type": "markdown",
   "id": "9c322dfd",
   "metadata": {},
   "source": [
    "#### 제거 과정"
   ]
  },
  {
   "cell_type": "markdown",
   "id": "f11d1545",
   "metadata": {},
   "source": [
    "#### 너무 오래걸려서 1000개로 축소후 진행"
   ]
  },
  {
   "cell_type": "code",
   "execution_count": 31,
   "id": "b261a408",
   "metadata": {},
   "outputs": [],
   "source": [
    "clean_train_reviews = []\n",
    "for i in range(len(train_data[:1000])):\n",
    "    clean_train_reviews.append(preprocessing(train_data['reviews'][i], okt, True, stop_words))"
   ]
  },
  {
   "cell_type": "code",
   "execution_count": 32,
   "id": "69162324",
   "metadata": {},
   "outputs": [
    {
     "data": {
      "text/plain": [
       "['재다',\n",
       " '별로',\n",
       " '별로',\n",
       " '별로',\n",
       " '별로',\n",
       " '불량품',\n",
       " '교환',\n",
       " '이나',\n",
       " '환불',\n",
       " '미흡',\n",
       " '고객',\n",
       " '센터',\n",
       " '개인',\n",
       " '휴대폰번호',\n",
       " '이제',\n",
       " '다른',\n",
       " '곳',\n",
       " '으로',\n",
       " '주문',\n",
       " '별로',\n",
       " '별로']"
      ]
     },
     "execution_count": 32,
     "metadata": {},
     "output_type": "execute_result"
    }
   ],
   "source": [
    "clean_train_reviews[16]"
   ]
  },
  {
   "cell_type": "markdown",
   "id": "3711321d",
   "metadata": {},
   "source": [
    "# 단어 사전 생성과 임베딩"
   ]
  },
  {
   "cell_type": "code",
   "execution_count": 38,
   "id": "ee600c26",
   "metadata": {},
   "outputs": [],
   "source": [
    "# 토크나이저 가져오기\n",
    "tokenizer = Tokenizer()\n",
    "\n",
    "# 토크나이징을 위한 사전 생성\n",
    "tokenizer.fit_on_texts(clean_train_reviews)\n",
    "\n",
    "# 토크나이징-인덱싱 진행\n",
    "train_sequences = tokenizer.texts_to_sequences(clean_train_reviews)"
   ]
  },
  {
   "cell_type": "code",
   "execution_count": 39,
   "id": "919927df",
   "metadata": {},
   "outputs": [
    {
     "data": {
      "text/plain": [
       "1000"
      ]
     },
     "execution_count": 39,
     "metadata": {},
     "output_type": "execute_result"
    }
   ],
   "source": [
    "len(train_sequences)"
   ]
  },
  {
   "cell_type": "code",
   "execution_count": 40,
   "id": "ebd4e7b7",
   "metadata": {},
   "outputs": [
    {
     "data": {
      "text/plain": [
       "[12,\n",
       " 48,\n",
       " 48,\n",
       " 48,\n",
       " 48,\n",
       " 1326,\n",
       " 188,\n",
       " 424,\n",
       " 834,\n",
       " 1327,\n",
       " 835,\n",
       " 836,\n",
       " 642,\n",
       " 1328,\n",
       " 425,\n",
       " 55,\n",
       " 164,\n",
       " 28,\n",
       " 35,\n",
       " 48,\n",
       " 48]"
      ]
     },
     "execution_count": 40,
     "metadata": {},
     "output_type": "execute_result"
    }
   ],
   "source": [
    "train_sequences[16]"
   ]
  },
  {
   "cell_type": "markdown",
   "id": "42dd2119",
   "metadata": {},
   "source": [
    "#### train_label 정의"
   ]
  },
  {
   "cell_type": "code",
   "execution_count": 42,
   "id": "1a947311",
   "metadata": {},
   "outputs": [],
   "source": [
    "# 레이블 정의\n",
    "train_labels = np.array(train_data['target'])"
   ]
  },
  {
   "cell_type": "markdown",
   "id": "c4a309fd",
   "metadata": {},
   "source": [
    "# 패딩\n",
    "변경점\n",
    "- 9보다 적은 단어 수를 가진 대상"
   ]
  },
  {
   "cell_type": "code",
   "execution_count": 43,
   "id": "92c2f1cc",
   "metadata": {},
   "outputs": [],
   "source": [
    "MAX_SEQUENCE_LENGTH = 9"
   ]
  },
  {
   "cell_type": "markdown",
   "id": "bd1be890",
   "metadata": {},
   "source": [
    "#### 패딩 작업"
   ]
  },
  {
   "cell_type": "code",
   "execution_count": 46,
   "id": "3301a602",
   "metadata": {},
   "outputs": [],
   "source": [
    "train_inputs = pad_sequences(train_sequences, maxlen=MAX_SEQUENCE_LENGTH,\n",
    "                             padding='post')"
   ]
  },
  {
   "cell_type": "code",
   "execution_count": 47,
   "id": "e775f3e0",
   "metadata": {},
   "outputs": [
    {
     "data": {
      "text/plain": [
       "array([[   2,  132,   69,   73,  312,  253,    9,    0,    0],\n",
       "       [  13,  204,   47,  823,  500,  128,  634,    5,  313],\n",
       "       [  86,   74,  176,   31, 1306,    6,  225,  254,  226],\n",
       "       [  17,  635,   87,  827,   11,   13,   62,  100,    9],\n",
       "       [ 108,  828,   23,   11, 1314,    0,    0,    0,    0],\n",
       "       [ 208,  505,    3,   24,    1,  208,    3,   24, 1320],\n",
       "       [   3,  361,   10,  109,  831,   16,  133,  506,   57],\n",
       "       [ 107,  637,    2,   17,    0,    0,    0,    0,    0],\n",
       "       [  83,  177,    3,  639,  138,  149,  315,   52,   20],\n",
       "       [ 279,  150,    3,   48,   49,    9,    0,    0,    0]])"
      ]
     },
     "execution_count": 47,
     "metadata": {},
     "output_type": "execute_result"
    }
   ],
   "source": [
    "train_inputs[:10]"
   ]
  },
  {
   "cell_type": "code",
   "execution_count": 52,
   "id": "d5ef89cd",
   "metadata": {},
   "outputs": [
    {
     "data": {
      "text/plain": [
       "((1000, 9), (1000,))"
      ]
     },
     "execution_count": 52,
     "metadata": {},
     "output_type": "execute_result"
    }
   ],
   "source": [
    "train_inputs.shape, train_labels[:1000].shape"
   ]
  },
  {
   "cell_type": "code",
   "execution_count": 54,
   "id": "b2400a59",
   "metadata": {},
   "outputs": [],
   "source": [
    "from sklearn.model_selection import train_test_split\n",
    "\n",
    "# 학습 및 평가 데이터 분리\n",
    "x_train, x_test, y_train, y_test = \\\n",
    "train_test_split(train_inputs, train_labels[:1000], test_size=0.1, random_state=43)"
   ]
  },
  {
   "cell_type": "code",
   "execution_count": 55,
   "id": "01af111f",
   "metadata": {},
   "outputs": [
    {
     "data": {
      "text/plain": [
       "((900, 9), (900,))"
      ]
     },
     "execution_count": 55,
     "metadata": {},
     "output_type": "execute_result"
    }
   ],
   "source": [
    "x_train.shape, y_train.shape"
   ]
  },
  {
   "cell_type": "markdown",
   "id": "072bd12f",
   "metadata": {},
   "source": [
    "#### 하이퍼파라미터 설정"
   ]
  },
  {
   "cell_type": "code",
   "execution_count": 56,
   "id": "3d204e9e",
   "metadata": {},
   "outputs": [],
   "source": [
    "VOCAB_SIZE = len(tokenizer.index_word) + 1\n",
    "EMB_SIZE = 128\n",
    "BATCH_SIZE = 16\n",
    "NUM_EPOCHS = 20"
   ]
  },
  {
   "cell_type": "markdown",
   "id": "a6d573c0",
   "metadata": {},
   "source": [
    "# 모델 설계"
   ]
  },
  {
   "cell_type": "markdown",
   "id": "a556792c",
   "metadata": {},
   "source": [
    "층의 구조는 동일하게 설정\n",
    "\n",
    "변경점\n",
    "- 출력층의 유닛 수와 활성화 함수 변경"
   ]
  },
  {
   "cell_type": "code",
   "execution_count": 116,
   "id": "39527c61",
   "metadata": {},
   "outputs": [],
   "source": [
    "import tensorflow as tf\n",
    "\n",
    "input_x = tf.keras.layers.Input((MAX_SEQUENCE_LENGTH,))\n",
    "# -> (None, 8, 60000)\n",
    "emb = tf.keras.layers.Embedding(input_dim=VOCAB_SIZE, output_dim=EMB_SIZE)(input_x)\n",
    "# -> (None, 8, 128)\n",
    "drob_1 = tf.keras.layers.Dropout(0.2)(emb)\n",
    "# -> (None, 8, 128)\n",
    "rnn_1 = tf.keras.layers.GRU(units=64, activation='tanh',\n",
    "                                 return_sequences=True)(drob_1)\n",
    "drob_2 = tf.keras.layers.Dropout(0.2)(rnn_1)\n",
    "# -> (None, 8, 64)\n",
    "rnn_2 = tf.keras.layers.GRU(units=32, activation='tanh',\n",
    "                                 return_sequences=True)(drob_2)\n",
    "drob_3 = tf.keras.layers.Dropout(0.2)(rnn_2)\n",
    "# -> (None, 8, 32)\n",
    "rnn_3 = tf.keras.layers.GRU(units=16, activation='tanh',\n",
    "                                 return_sequences=True)(drob_3)\n",
    "# -> (None, 8, 16)\n",
    "rnn_4 = tf.keras.layers.GRU(units=8, activation='tanh',\n",
    "                                 return_sequences=False)(rnn_3)\n",
    "# -> (None, 8)\n",
    "drob_4 = tf.keras.layers.Dropout(0.2)(rnn_4)\n",
    "# -> (None, 8)\n",
    "output = tf.keras.layers.Dense(units=6, activation='softmax')(drob_4)\n",
    "\n",
    "# 모델 선언\n",
    "model = tf.keras.Model(input_x, output)"
   ]
  },
  {
   "cell_type": "code",
   "execution_count": 117,
   "id": "3a85e528",
   "metadata": {},
   "outputs": [],
   "source": [
    "# 모델 컴파일\n",
    "model.compile(optimizer='adam', loss='sparse_categorical_crossentropy', metrics=['accuracy'])"
   ]
  },
  {
   "cell_type": "code",
   "execution_count": 118,
   "id": "06cf11c4",
   "metadata": {},
   "outputs": [
    {
     "name": "stdout",
     "output_type": "stream",
     "text": [
      "Model: \"model_4\"\n",
      "_________________________________________________________________\n",
      " Layer (type)                Output Shape              Param #   \n",
      "=================================================================\n",
      " input_5 (InputLayer)        [(None, 9)]               0         \n",
      "                                                                 \n",
      " embedding_4 (Embedding)     (None, 9, 128)            378880    \n",
      "                                                                 \n",
      " dropout_16 (Dropout)        (None, 9, 128)            0         \n",
      "                                                                 \n",
      " gru_16 (GRU)                (None, 9, 64)             37248     \n",
      "                                                                 \n",
      " dropout_17 (Dropout)        (None, 9, 64)             0         \n",
      "                                                                 \n",
      " gru_17 (GRU)                (None, 9, 32)             9408      \n",
      "                                                                 \n",
      " dropout_18 (Dropout)        (None, 9, 32)             0         \n",
      "                                                                 \n",
      " gru_18 (GRU)                (None, 9, 16)             2400      \n",
      "                                                                 \n",
      " gru_19 (GRU)                (None, 8)                 624       \n",
      "                                                                 \n",
      " dropout_19 (Dropout)        (None, 8)                 0         \n",
      "                                                                 \n",
      " dense_4 (Dense)             (None, 6)                 54        \n",
      "                                                                 \n",
      "=================================================================\n",
      "Total params: 428614 (1.64 MB)\n",
      "Trainable params: 428614 (1.64 MB)\n",
      "Non-trainable params: 0 (0.00 Byte)\n",
      "_________________________________________________________________\n"
     ]
    }
   ],
   "source": [
    "model.summary()"
   ]
  },
  {
   "cell_type": "markdown",
   "id": "f6db70b9",
   "metadata": {},
   "source": [
    "### 결과"
   ]
  },
  {
   "cell_type": "code",
   "execution_count": 119,
   "id": "bd8ce50b",
   "metadata": {},
   "outputs": [
    {
     "name": "stdout",
     "output_type": "stream",
     "text": [
      "Epoch 1/20\n",
      "51/51 [==============================] - 9s 46ms/step - loss: 1.4667 - accuracy: 0.3815 - val_loss: 1.3422 - val_accuracy: 0.4444\n",
      "Epoch 2/20\n",
      "51/51 [==============================] - 1s 13ms/step - loss: 1.3154 - accuracy: 0.4160 - val_loss: 1.2907 - val_accuracy: 0.5111\n",
      "Epoch 3/20\n",
      "51/51 [==============================] - 1s 13ms/step - loss: 1.1412 - accuracy: 0.5704 - val_loss: 1.2585 - val_accuracy: 0.4222\n",
      "Epoch 4/20\n",
      "51/51 [==============================] - 1s 13ms/step - loss: 0.9473 - accuracy: 0.6667 - val_loss: 1.3007 - val_accuracy: 0.4222\n",
      "Epoch 5/20\n",
      "51/51 [==============================] - 1s 13ms/step - loss: 0.7487 - accuracy: 0.7926 - val_loss: 1.4155 - val_accuracy: 0.3889\n",
      "Epoch 6/20\n",
      "51/51 [==============================] - 1s 12ms/step - loss: 0.5674 - accuracy: 0.8469 - val_loss: 1.6293 - val_accuracy: 0.4222\n",
      "Epoch 7/20\n",
      "51/51 [==============================] - 1s 13ms/step - loss: 0.4789 - accuracy: 0.8679 - val_loss: 1.7757 - val_accuracy: 0.3889\n",
      "Epoch 8/20\n",
      "51/51 [==============================] - 1s 12ms/step - loss: 0.4016 - accuracy: 0.8975 - val_loss: 1.8316 - val_accuracy: 0.4000\n",
      "Epoch 9/20\n",
      "51/51 [==============================] - 1s 12ms/step - loss: 0.3396 - accuracy: 0.9247 - val_loss: 1.9361 - val_accuracy: 0.4111\n",
      "Epoch 10/20\n",
      "51/51 [==============================] - 1s 12ms/step - loss: 0.2921 - accuracy: 0.9543 - val_loss: 2.0487 - val_accuracy: 0.4000\n",
      "Epoch 11/20\n",
      "51/51 [==============================] - 1s 12ms/step - loss: 0.2221 - accuracy: 0.9765 - val_loss: 2.2968 - val_accuracy: 0.3667\n",
      "Epoch 12/20\n",
      "51/51 [==============================] - 1s 12ms/step - loss: 0.1994 - accuracy: 0.9815 - val_loss: 2.2874 - val_accuracy: 0.4111\n",
      "Epoch 13/20\n",
      "51/51 [==============================] - 1s 13ms/step - loss: 0.1943 - accuracy: 0.9790 - val_loss: 2.2357 - val_accuracy: 0.4333\n",
      "Epoch 14/20\n",
      "51/51 [==============================] - 1s 14ms/step - loss: 0.1776 - accuracy: 0.9741 - val_loss: 2.4112 - val_accuracy: 0.3889\n",
      "Epoch 15/20\n",
      "51/51 [==============================] - 1s 13ms/step - loss: 0.1453 - accuracy: 0.9840 - val_loss: 2.4045 - val_accuracy: 0.4111\n",
      "Epoch 16/20\n",
      "51/51 [==============================] - 1s 13ms/step - loss: 0.1569 - accuracy: 0.9704 - val_loss: 2.3943 - val_accuracy: 0.4222\n",
      "Epoch 17/20\n",
      "51/51 [==============================] - 1s 13ms/step - loss: 0.1426 - accuracy: 0.9815 - val_loss: 2.1508 - val_accuracy: 0.4556\n",
      "Epoch 18/20\n",
      "51/51 [==============================] - 1s 12ms/step - loss: 0.1355 - accuracy: 0.9802 - val_loss: 2.5048 - val_accuracy: 0.4444\n",
      "Epoch 19/20\n",
      "51/51 [==============================] - 1s 12ms/step - loss: 0.1349 - accuracy: 0.9802 - val_loss: 2.6152 - val_accuracy: 0.4333\n",
      "Epoch 20/20\n",
      "51/51 [==============================] - 1s 13ms/step - loss: 0.1184 - accuracy: 0.9877 - val_loss: 2.7474 - val_accuracy: 0.3778\n"
     ]
    },
    {
     "data": {
      "text/plain": [
       "<keras.src.callbacks.History at 0x1813d906eb0>"
      ]
     },
     "execution_count": 119,
     "metadata": {},
     "output_type": "execute_result"
    }
   ],
   "source": [
    "# 훈련\n",
    "model.fit(x=train_X, y=train_y,\n",
    "          batch_size=BATCH_SIZE,\n",
    "         epochs=NUM_EPOCHS,\n",
    "         validation_split=0.1)"
   ]
  },
  {
   "cell_type": "markdown",
   "id": "c3ffb408",
   "metadata": {},
   "source": [
    "### 훈련된 모델의 상품평 예측"
   ]
  },
  {
   "cell_type": "code",
   "execution_count": 120,
   "id": "1252b558",
   "metadata": {},
   "outputs": [
    {
     "name": "stdout",
     "output_type": "stream",
     "text": [
      "1/1 [==============================] - 1s 1s/step\n",
      "16번쨰 인덱스의 상품평 예측 평점:  2\n"
     ]
    }
   ],
   "source": [
    "pred = np.argmax(model.predict(x_test[16].reshape(-1, 9)))\n",
    "print(\"16번쨰 인덱스의 상품평 예측 평점: \", pred)"
   ]
  },
  {
   "cell_type": "code",
   "execution_count": 121,
   "id": "b191fb6d",
   "metadata": {},
   "outputs": [
    {
     "name": "stdout",
     "output_type": "stream",
     "text": [
      "상품평:  재구매 별로별로별로별로 불량품 교환이나 환불 미흡 고객센터 개인 휴대폰번호 이제 다른곳으로 주문 별로별로\n",
      "평점:  2\n"
     ]
    }
   ],
   "source": [
    "print('상품평: ',train_data['reviews'].iloc[16])\n",
    "print('평점: ',train_data['target'].iloc[16])"
   ]
  },
  {
   "cell_type": "code",
   "execution_count": null,
   "id": "374e5cbc",
   "metadata": {},
   "outputs": [],
   "source": []
  }
 ],
 "metadata": {
  "kernelspec": {
   "display_name": "Python 3 (ipykernel)",
   "language": "python",
   "name": "python3"
  },
  "language_info": {
   "codemirror_mode": {
    "name": "ipython",
    "version": 3
   },
   "file_extension": ".py",
   "mimetype": "text/x-python",
   "name": "python",
   "nbconvert_exporter": "python",
   "pygments_lexer": "ipython3",
   "version": "3.9.13"
  }
 },
 "nbformat": 4,
 "nbformat_minor": 5
}
