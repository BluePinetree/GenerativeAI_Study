{
  "nbformat": 4,
  "nbformat_minor": 0,
  "metadata": {
    "colab": {
      "provenance": []
    },
    "kernelspec": {
      "name": "python3",
      "display_name": "Python 3"
    },
    "language_info": {
      "name": "python"
    }
  },
  "cells": [
    {
      "cell_type": "markdown",
      "source": [
        "# MLP: Multi-Layer Perceptron (다층 퍼셉트론)\n",
        "\n",
        "다층 퍼셉트론(Multilayer perceptron, MLP)은 퍼셉트론을 여러층 쌓은 순방향의 인공 신경망입니다. 입력층(input layer)과 은닉층(hidden layer)과 출력층(output layer)으로 구성됩니다. 각 층에서는 활성함수를 통해 입력을 처리합니다."
      ],
      "metadata": {
        "id": "dxzvziUIz8SP"
      }
    },
    {
      "cell_type": "markdown",
      "source": [
        "이 노트북에서는 MNIST 데이터셋에서 다층 퍼셉트론을 훈련합니다."
      ],
      "metadata": {
        "id": "Yd3_QlWc1BeY"
      }
    },
    {
      "cell_type": "code",
      "execution_count": 1,
      "metadata": {
        "colab": {
          "base_uri": "https://localhost:8080/"
        },
        "id": "TJeCXsao0tUQ",
        "outputId": "de1ccefe-a9fd-4829-b3f5-0c4952974908"
      },
      "outputs": [
        {
          "output_type": "stream",
          "name": "stdout",
          "text": [
            "--2024-01-18 08:35:59--  https://raw.githubusercontent.com/rickiepark/Generative_Deep_Learning_2nd_Edition/main/notebooks/utils.py\n",
            "Resolving raw.githubusercontent.com (raw.githubusercontent.com)... 185.199.108.133, 185.199.109.133, 185.199.110.133, ...\n",
            "Connecting to raw.githubusercontent.com (raw.githubusercontent.com)|185.199.108.133|:443... connected.\n",
            "HTTP request sent, awaiting response... 200 OK\n",
            "Length: 771 [text/plain]\n",
            "Saving to: ‘utils.py’\n",
            "\n",
            "\rutils.py              0%[                    ]       0  --.-KB/s               \rutils.py            100%[===================>]     771  --.-KB/s    in 0s      \n",
            "\n",
            "2024-01-18 08:35:59 (51.5 MB/s) - ‘utils.py’ saved [771/771]\n",
            "\n"
          ]
        }
      ],
      "source": [
        "import sys\n",
        "\n",
        "# 코랩의 경우 깃허브 저장소로부터 utils.py를 다운로드 합니다.\n",
        "if 'google.colab' in sys.modules:\n",
        "    !wget https://raw.githubusercontent.com/rickiepark/Generative_Deep_Learning_2nd_Edition/main/notebooks/utils.py\n",
        "    !mkdir -p notebooks\n",
        "    !mv utils.py notebooks"
      ]
    },
    {
      "cell_type": "code",
      "source": [
        "import numpy as np\n",
        "import matplotlib.pyplot as plt\n",
        "\n",
        "from tensorflow.keras import layers, models, optimizers, utils, datasets\n",
        "from notebooks.utils import display"
      ],
      "metadata": {
        "id": "FA8W-oYI1G_-"
      },
      "execution_count": 2,
      "outputs": []
    },
    {
      "cell_type": "markdown",
      "source": [
        "## 0. 파라미터\n",
        "\n",
        "MNIST (손글씨 숫자 데이터셋)은 28x28 크기의 흑백 숫자 이미지가 10개의 클래스로 구성되어 있습니다. (0~9)"
      ],
      "metadata": {
        "id": "755_C0Qm1JvU"
      }
    },
    {
      "cell_type": "code",
      "source": [
        "NUM_CLASSES = 10"
      ],
      "metadata": {
        "id": "dzk5-xqh1Lv2"
      },
      "execution_count": 3,
      "outputs": []
    },
    {
      "cell_type": "markdown",
      "source": [
        "## 1. 데이터 준비"
      ],
      "metadata": {
        "id": "fn38ofzO1Qip"
      }
    },
    {
      "cell_type": "code",
      "source": [
        "(x_train, y_train), (x_test, y_test) = datasets.mnist.load_data()"
      ],
      "metadata": {
        "id": "_6nLBmtm1RmE"
      },
      "execution_count": 4,
      "outputs": []
    },
    {
      "cell_type": "code",
      "source": [
        "x_train.shape"
      ],
      "metadata": {
        "colab": {
          "base_uri": "https://localhost:8080/"
        },
        "id": "ZRUMKznzZfVa",
        "outputId": "47e63b9c-42c7-4b77-a67b-1f3e692b5092"
      },
      "execution_count": 5,
      "outputs": [
        {
          "output_type": "execute_result",
          "data": {
            "text/plain": [
              "(60000, 28, 28)"
            ]
          },
          "metadata": {},
          "execution_count": 5
        }
      ]
    },
    {
      "cell_type": "markdown",
      "source": [
        "### 데이터 정규화 (normalization)\n",
        "현재 데이터는 0\\~255 값을 가지고 있기 때문에, 0\\~1 사이로 스케일링 시켜줍니다.\n",
        "\n",
        "### 원-핫 인코딩\n",
        "원-핫 인코딩을 통하여 0~9의 정수형 값을 갖는 데이터를 0과 1로만 이루어진 벡터로 바꾸어 줍니다.\n",
        "```\n",
        "to_categorical(클래스, 클래스의 개수)\n",
        "```"
      ],
      "metadata": {
        "id": "lnj1v5IcT4EW"
      }
    },
    {
      "cell_type": "code",
      "source": [
        "x_train = x_train.astype(\"float32\") / 255.0\n",
        "x_test = x_test.astype(\"float32\") / 255.0\n",
        "\n",
        "y_train = utils.to_categorical(y_train, NUM_CLASSES)\n",
        "y_test = utils.to_categorical(y_test, NUM_CLASSES)"
      ],
      "metadata": {
        "id": "LHxWlXBv1VIZ"
      },
      "execution_count": 6,
      "outputs": []
    },
    {
      "cell_type": "code",
      "source": [
        "display(x_train[:10])\n",
        "print(y_train[:10])"
      ],
      "metadata": {
        "colab": {
          "base_uri": "https://localhost:8080/",
          "height": 342
        },
        "id": "rxY3s-Hca-YU",
        "outputId": "763751eb-a2bc-446b-b004-8eb6ed0b3e19"
      },
      "execution_count": 7,
      "outputs": [
        {
          "output_type": "display_data",
          "data": {
            "text/plain": [
              "<Figure size 2000x300 with 10 Axes>"
            ],
            "image/png": "[encoded data removed]"
          },
          "metadata": {}
        },
        {
          "output_type": "stream",
          "name": "stdout",
          "text": [
            "[[0. 0. 0. 0. 0. 1. 0. 0. 0. 0.]\n",
            " [1. 0. 0. 0. 0. 0. 0. 0. 0. 0.]\n",
            " [0. 0. 0. 0. 1. 0. 0. 0. 0. 0.]\n",
            " [0. 1. 0. 0. 0. 0. 0. 0. 0. 0.]\n",
            " [0. 0. 0. 0. 0. 0. 0. 0. 0. 1.]\n",
            " [0. 0. 1. 0. 0. 0. 0. 0. 0. 0.]\n",
            " [0. 1. 0. 0. 0. 0. 0. 0. 0. 0.]\n",
            " [0. 0. 0. 1. 0. 0. 0. 0. 0. 0.]\n",
            " [0. 1. 0. 0. 0. 0. 0. 0. 0. 0.]\n",
            " [0. 0. 0. 0. 1. 0. 0. 0. 0. 0.]]\n"
          ]
        }
      ]
    },
    {
      "cell_type": "markdown",
      "source": [
        "## 2. 모델 구축"
      ],
      "metadata": {
        "id": "brQ7OGD01Tjy"
      }
    },
    {
      "cell_type": "code",
      "source": [
        "input_layer = layers.Input((28, 28)) # 입력 레이어 정의\n",
        "\n",
        "x = layers.Flatten()(input_layer) # 이미지를 1D 벡터로 펼치는 Flatten 레이어 추가\n",
        "x = layers.Dense(200, activation=\"relu\")(x) # 첫 번째 은닉층. 뉴런 수: 200, 활성화 함수: ReLU\n",
        "x = layers.Dense(150, activation=\"relu\")(x) # 두 번째 은닉층. 뉴런 수: 150, 활성화 함수: ReLU\n",
        "\n",
        "output_layer = layers.Dense(NUM_CLASSES, activation=\"softmax\")(x) # 출력층. 뉴런 수: NUM_CLASSES(클래스 수), 활성화 함수: Softmax\n",
        "\n",
        "model = models.Model(input_layer, output_layer) # 모델 정의\n",
        "\n",
        "model.summary() # 모델 구조 출력"
      ],
      "metadata": {
        "colab": {
          "base_uri": "https://localhost:8080/"
        },
        "id": "4pQtJT--bFRw",
        "outputId": "d7edc97c-d365-46fe-8187-0d19ab171e2e"
      },
      "execution_count": 8,
      "outputs": [
        {
          "output_type": "stream",
          "name": "stdout",
          "text": [
            "Model: \"model\"\n",
            "_________________________________________________________________\n",
            " Layer (type)                Output Shape              Param #   \n",
            "=================================================================\n",
            " input_1 (InputLayer)        [(None, 28, 28)]          0         \n",
            "                                                                 \n",
            " flatten (Flatten)           (None, 784)               0         \n",
            "                                                                 \n",
            " dense (Dense)               (None, 200)               157000    \n",
            "                                                                 \n",
            " dense_1 (Dense)             (None, 150)               30150     \n",
            "                                                                 \n",
            " dense_2 (Dense)             (None, 10)                1510      \n",
            "                                                                 \n",
            "=================================================================\n",
            "Total params: 188660 (736.95 KB)\n",
            "Trainable params: 188660 (736.95 KB)\n",
            "Non-trainable params: 0 (0.00 Byte)\n",
            "_________________________________________________________________\n"
          ]
        }
      ]
    },
    {
      "cell_type": "markdown",
      "source": [
        "## 3. 모델 훈련"
      ],
      "metadata": {
        "id": "PWTTn6Wp1dfR"
      }
    },
    {
      "cell_type": "markdown",
      "source": [
        "최적화 함수: Adam"
      ],
      "metadata": {
        "id": "ICpVTr9mWdSG"
      }
    },
    {
      "cell_type": "code",
      "source": [
        "opt = optimizers.Adam(learning_rate=0.0005)\n",
        "model.compile(\n",
        "    loss=\"categorical_crossentropy\", optimizer=opt, metrics=[\"accuracy\"]\n",
        ")"
      ],
      "metadata": {
        "id": "3QG59OHVbmMz"
      },
      "execution_count": 9,
      "outputs": []
    },
    {
      "cell_type": "markdown",
      "source": [
        "**batch_size**: 한 번의 반복에 사용되는 샘플의 수<br />\n",
        "> 일반적으로 32, 64, 128과 같은 2의 제곱수로 설정\n",
        "\n",
        "**epoch**: 전체 데이터셋에 대해 한 번의 학습 과정을 거치는 횟수<br />\n",
        "**shuffle**: 훈련 데이터를 epoch마다 섞을지 여부를 결정\n"
      ],
      "metadata": {
        "id": "WTTcW7O4VZHv"
      }
    },
    {
      "cell_type": "code",
      "source": [
        "model.fit(x_train, y_train, batch_size=32, epochs=10, shuffle=True)"
      ],
      "metadata": {
        "colab": {
          "base_uri": "https://localhost:8080/"
        },
        "id": "69BaV1fkbv48",
        "outputId": "ab96a861-b879-4a07-cd9e-c83e01cdad43"
      },
      "execution_count": 10,
      "outputs": [
        {
          "output_type": "stream",
          "name": "stdout",
          "text": [
            "Epoch 1/10\n",
            "1875/1875 [==============================] - 13s 6ms/step - loss: 0.2466 - accuracy: 0.9307\n",
            "Epoch 2/10\n",
            "1875/1875 [==============================] - 11s 6ms/step - loss: 0.1008 - accuracy: 0.9693\n",
            "Epoch 3/10\n",
            "1875/1875 [==============================] - 11s 6ms/step - loss: 0.0676 - accuracy: 0.9794\n",
            "Epoch 4/10\n",
            "1875/1875 [==============================] - 11s 6ms/step - loss: 0.0496 - accuracy: 0.9845\n",
            "Epoch 5/10\n",
            "1875/1875 [==============================] - 11s 6ms/step - loss: 0.0375 - accuracy: 0.9880\n",
            "Epoch 6/10\n",
            "1875/1875 [==============================] - 11s 6ms/step - loss: 0.0277 - accuracy: 0.9911\n",
            "Epoch 7/10\n",
            "1875/1875 [==============================] - 10s 5ms/step - loss: 0.0226 - accuracy: 0.9926\n",
            "Epoch 8/10\n",
            "1875/1875 [==============================] - 11s 6ms/step - loss: 0.0179 - accuracy: 0.9944\n",
            "Epoch 9/10\n",
            "1875/1875 [==============================] - 11s 6ms/step - loss: 0.0152 - accuracy: 0.9950\n",
            "Epoch 10/10\n",
            "1875/1875 [==============================] - 12s 6ms/step - loss: 0.0143 - accuracy: 0.9951\n"
          ]
        },
        {
          "output_type": "execute_result",
          "data": {
            "text/plain": [
              "<keras.src.callbacks.History at 0x7d14cf1cfb80>"
            ]
          },
          "metadata": {},
          "execution_count": 10
        }
      ]
    },
    {
      "cell_type": "markdown",
      "source": [
        "## 4. 평가"
      ],
      "metadata": {
        "id": "l7AcnttF1jXP"
      }
    },
    {
      "cell_type": "code",
      "source": [
        "model.evaluate(x_test, y_test)"
      ],
      "metadata": {
        "colab": {
          "base_uri": "https://localhost:8080/"
        },
        "id": "lzwMhMV0cnCo",
        "outputId": "444b8f36-93a4-4e1c-f89f-228b84ef3976"
      },
      "execution_count": 11,
      "outputs": [
        {
          "output_type": "stream",
          "name": "stdout",
          "text": [
            "313/313 [==============================] - 2s 4ms/step - loss: 0.0739 - accuracy: 0.9810\n"
          ]
        },
        {
          "output_type": "execute_result",
          "data": {
            "text/plain": [
              "[0.07386478781700134, 0.9810000061988831]"
            ]
          },
          "metadata": {},
          "execution_count": 11
        }
      ]
    },
    {
      "cell_type": "code",
      "source": [
        "CLASSES = np.array(\n",
        "    [\n",
        "        \"0\",\n",
        "        \"1\",\n",
        "        \"2\",\n",
        "        \"3\",\n",
        "        \"4\",\n",
        "        \"5\",\n",
        "        \"6\",\n",
        "        \"7\",\n",
        "        \"8\",\n",
        "        \"9\",\n",
        "    ]\n",
        ")\n",
        "\n",
        "preds = model.predict(x_test)\n",
        "preds_single = CLASSES[np.argmax(preds, axis=-1)]\n",
        "actual_single = CLASSES[np.argmax(y_test, axis=-1)]"
      ],
      "metadata": {
        "colab": {
          "base_uri": "https://localhost:8080/"
        },
        "id": "P1gG2WNmcq6Y",
        "outputId": "7bde4fb1-6d24-4e4d-c9f0-e59b39f1a184"
      },
      "execution_count": 12,
      "outputs": [
        {
          "output_type": "stream",
          "name": "stdout",
          "text": [
            "313/313 [==============================] - 1s 3ms/step\n"
          ]
        }
      ]
    },
    {
      "cell_type": "code",
      "source": [
        "n_to_show = 10\n",
        "indices = np.random.choice(range(len(x_test)), n_to_show)\n",
        "\n",
        "fig = plt.figure(figsize=(15, 3))\n",
        "fig.subplots_adjust(hspace=0.4, wspace=0.4)\n",
        "\n",
        "for i, idx in enumerate(indices):\n",
        "    img = x_test[idx]\n",
        "    ax = fig.add_subplot(1, n_to_show, i + 1)\n",
        "    ax.axis(\"off\")\n",
        "    ax.text(\n",
        "        0.5,\n",
        "        -0.35,\n",
        "        \"pred = \" + str(preds_single[idx]),\n",
        "        fontsize=10,\n",
        "        ha=\"center\",\n",
        "        transform=ax.transAxes,\n",
        "    )\n",
        "    ax.text(\n",
        "        0.5,\n",
        "        -0.7,\n",
        "        \"act = \" + str(actual_single[idx]),\n",
        "        fontsize=10,\n",
        "        ha=\"center\",\n",
        "        transform=ax.transAxes,\n",
        "    )\n",
        "    ax.imshow(img)"
      ],
      "metadata": {
        "colab": {
          "base_uri": "https://localhost:8080/",
          "height": 185
        },
        "id": "kPTpfnJDc18x",
        "outputId": "977dbdc8-b7bb-472b-968e-d50f2c109718"
      },
      "execution_count": 13,
      "outputs": [
        {
          "output_type": "display_data",
          "data": {
            "text/plain": [
              "<Figure size 1500x300 with 10 Axes>"
            ],
            "image/png": "[encoded data removed]"
          },
          "metadata": {}
        }
      ]
    }
  ]
}