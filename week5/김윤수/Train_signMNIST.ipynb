{
 "cells": [
  {
   "cell_type": "markdown",
   "id": "3df5b74e",
   "metadata": {},
   "source": [
    "# signMNIST 분류 인공지능 모델 구현\n",
    "## 개요\n",
    "* 알파벳 A-Z까지 수화로 표현된 이미지를 분류하는 심층 신경망(딥러닝) 모델을 구현하고자 합니다.\n",
    "* 표현을 위해 모션이 필요한 J와 Z는 데이터셋에 표현되어 있지 않습니다.\n",
    "## 1. 데이터 전처리"
   ]
  },
  {
   "cell_type": "code",
   "execution_count": 1,
   "id": "32b54347",
   "metadata": {},
   "outputs": [],
   "source": [
    "# load libraries\n",
    "import os\n",
    "import numpy as np\n",
    "import matplotlib.pyplot as plt\n",
    "import pandas as pd\n",
    "import tensorflow as tf"
   ]
  },
  {
   "cell_type": "code",
   "execution_count": 2,
   "id": "83f1b4d6",
   "metadata": {},
   "outputs": [],
   "source": [
    "# get data\n",
    "train_df = pd.read_csv('./sign_mnist_train/sign_mnist_train.csv')\n",
    "test_df = pd.read_csv('./sign_mnist_test/sign_mnist_test.csv')"
   ]
  },
  {
   "cell_type": "code",
   "execution_count": 3,
   "id": "423eea36",
   "metadata": {},
   "outputs": [
    {
     "data": {
      "text/html": [
       "<div>\n",
       "<style scoped>\n",
       "    .dataframe tbody tr th:only-of-type {\n",
       "        vertical-align: middle;\n",
       "    }\n",
       "\n",
       "    .dataframe tbody tr th {\n",
       "        vertical-align: top;\n",
       "    }\n",
       "\n",
       "    .dataframe thead th {\n",
       "        text-align: right;\n",
       "    }\n",
       "</style>\n",
       "<table border=\"1\" class=\"dataframe\">\n",
       "  <thead>\n",
       "    <tr style=\"text-align: right;\">\n",
       "      <th></th>\n",
       "      <th>label</th>\n",
       "      <th>pixel1</th>\n",
       "      <th>pixel2</th>\n",
       "      <th>pixel3</th>\n",
       "      <th>pixel4</th>\n",
       "      <th>pixel5</th>\n",
       "      <th>pixel6</th>\n",
       "      <th>pixel7</th>\n",
       "      <th>pixel8</th>\n",
       "      <th>pixel9</th>\n",
       "      <th>...</th>\n",
       "      <th>pixel775</th>\n",
       "      <th>pixel776</th>\n",
       "      <th>pixel777</th>\n",
       "      <th>pixel778</th>\n",
       "      <th>pixel779</th>\n",
       "      <th>pixel780</th>\n",
       "      <th>pixel781</th>\n",
       "      <th>pixel782</th>\n",
       "      <th>pixel783</th>\n",
       "      <th>pixel784</th>\n",
       "    </tr>\n",
       "  </thead>\n",
       "  <tbody>\n",
       "    <tr>\n",
       "      <th>0</th>\n",
       "      <td>3</td>\n",
       "      <td>107</td>\n",
       "      <td>118</td>\n",
       "      <td>127</td>\n",
       "      <td>134</td>\n",
       "      <td>139</td>\n",
       "      <td>143</td>\n",
       "      <td>146</td>\n",
       "      <td>150</td>\n",
       "      <td>153</td>\n",
       "      <td>...</td>\n",
       "      <td>207</td>\n",
       "      <td>207</td>\n",
       "      <td>207</td>\n",
       "      <td>207</td>\n",
       "      <td>206</td>\n",
       "      <td>206</td>\n",
       "      <td>206</td>\n",
       "      <td>204</td>\n",
       "      <td>203</td>\n",
       "      <td>202</td>\n",
       "    </tr>\n",
       "    <tr>\n",
       "      <th>1</th>\n",
       "      <td>6</td>\n",
       "      <td>155</td>\n",
       "      <td>157</td>\n",
       "      <td>156</td>\n",
       "      <td>156</td>\n",
       "      <td>156</td>\n",
       "      <td>157</td>\n",
       "      <td>156</td>\n",
       "      <td>158</td>\n",
       "      <td>158</td>\n",
       "      <td>...</td>\n",
       "      <td>69</td>\n",
       "      <td>149</td>\n",
       "      <td>128</td>\n",
       "      <td>87</td>\n",
       "      <td>94</td>\n",
       "      <td>163</td>\n",
       "      <td>175</td>\n",
       "      <td>103</td>\n",
       "      <td>135</td>\n",
       "      <td>149</td>\n",
       "    </tr>\n",
       "    <tr>\n",
       "      <th>2</th>\n",
       "      <td>2</td>\n",
       "      <td>187</td>\n",
       "      <td>188</td>\n",
       "      <td>188</td>\n",
       "      <td>187</td>\n",
       "      <td>187</td>\n",
       "      <td>186</td>\n",
       "      <td>187</td>\n",
       "      <td>188</td>\n",
       "      <td>187</td>\n",
       "      <td>...</td>\n",
       "      <td>202</td>\n",
       "      <td>201</td>\n",
       "      <td>200</td>\n",
       "      <td>199</td>\n",
       "      <td>198</td>\n",
       "      <td>199</td>\n",
       "      <td>198</td>\n",
       "      <td>195</td>\n",
       "      <td>194</td>\n",
       "      <td>195</td>\n",
       "    </tr>\n",
       "    <tr>\n",
       "      <th>3</th>\n",
       "      <td>2</td>\n",
       "      <td>211</td>\n",
       "      <td>211</td>\n",
       "      <td>212</td>\n",
       "      <td>212</td>\n",
       "      <td>211</td>\n",
       "      <td>210</td>\n",
       "      <td>211</td>\n",
       "      <td>210</td>\n",
       "      <td>210</td>\n",
       "      <td>...</td>\n",
       "      <td>235</td>\n",
       "      <td>234</td>\n",
       "      <td>233</td>\n",
       "      <td>231</td>\n",
       "      <td>230</td>\n",
       "      <td>226</td>\n",
       "      <td>225</td>\n",
       "      <td>222</td>\n",
       "      <td>229</td>\n",
       "      <td>163</td>\n",
       "    </tr>\n",
       "    <tr>\n",
       "      <th>4</th>\n",
       "      <td>13</td>\n",
       "      <td>164</td>\n",
       "      <td>167</td>\n",
       "      <td>170</td>\n",
       "      <td>172</td>\n",
       "      <td>176</td>\n",
       "      <td>179</td>\n",
       "      <td>180</td>\n",
       "      <td>184</td>\n",
       "      <td>185</td>\n",
       "      <td>...</td>\n",
       "      <td>92</td>\n",
       "      <td>105</td>\n",
       "      <td>105</td>\n",
       "      <td>108</td>\n",
       "      <td>133</td>\n",
       "      <td>163</td>\n",
       "      <td>157</td>\n",
       "      <td>163</td>\n",
       "      <td>164</td>\n",
       "      <td>179</td>\n",
       "    </tr>\n",
       "  </tbody>\n",
       "</table>\n",
       "<p>5 rows × 785 columns</p>\n",
       "</div>"
      ],
      "text/plain": [
       "   label  pixel1  pixel2  pixel3  pixel4  pixel5  pixel6  pixel7  pixel8  \\\n",
       "0      3     107     118     127     134     139     143     146     150   \n",
       "1      6     155     157     156     156     156     157     156     158   \n",
       "2      2     187     188     188     187     187     186     187     188   \n",
       "3      2     211     211     212     212     211     210     211     210   \n",
       "4     13     164     167     170     172     176     179     180     184   \n",
       "\n",
       "   pixel9  ...  pixel775  pixel776  pixel777  pixel778  pixel779  pixel780  \\\n",
       "0     153  ...       207       207       207       207       206       206   \n",
       "1     158  ...        69       149       128        87        94       163   \n",
       "2     187  ...       202       201       200       199       198       199   \n",
       "3     210  ...       235       234       233       231       230       226   \n",
       "4     185  ...        92       105       105       108       133       163   \n",
       "\n",
       "   pixel781  pixel782  pixel783  pixel784  \n",
       "0       206       204       203       202  \n",
       "1       175       103       135       149  \n",
       "2       198       195       194       195  \n",
       "3       225       222       229       163  \n",
       "4       157       163       164       179  \n",
       "\n",
       "[5 rows x 785 columns]"
      ]
     },
     "execution_count": 3,
     "metadata": {},
     "output_type": "execute_result"
    }
   ],
   "source": [
    "train_df.head()"
   ]
  },
  {
   "cell_type": "code",
   "execution_count": 4,
   "id": "9cf22bba",
   "metadata": {},
   "outputs": [
    {
     "data": {
      "text/html": [
       "<div>\n",
       "<style scoped>\n",
       "    .dataframe tbody tr th:only-of-type {\n",
       "        vertical-align: middle;\n",
       "    }\n",
       "\n",
       "    .dataframe tbody tr th {\n",
       "        vertical-align: top;\n",
       "    }\n",
       "\n",
       "    .dataframe thead th {\n",
       "        text-align: right;\n",
       "    }\n",
       "</style>\n",
       "<table border=\"1\" class=\"dataframe\">\n",
       "  <thead>\n",
       "    <tr style=\"text-align: right;\">\n",
       "      <th></th>\n",
       "      <th>label</th>\n",
       "      <th>pixel1</th>\n",
       "      <th>pixel2</th>\n",
       "      <th>pixel3</th>\n",
       "      <th>pixel4</th>\n",
       "      <th>pixel5</th>\n",
       "      <th>pixel6</th>\n",
       "      <th>pixel7</th>\n",
       "      <th>pixel8</th>\n",
       "      <th>pixel9</th>\n",
       "      <th>...</th>\n",
       "      <th>pixel775</th>\n",
       "      <th>pixel776</th>\n",
       "      <th>pixel777</th>\n",
       "      <th>pixel778</th>\n",
       "      <th>pixel779</th>\n",
       "      <th>pixel780</th>\n",
       "      <th>pixel781</th>\n",
       "      <th>pixel782</th>\n",
       "      <th>pixel783</th>\n",
       "      <th>pixel784</th>\n",
       "    </tr>\n",
       "  </thead>\n",
       "  <tbody>\n",
       "    <tr>\n",
       "      <th>0</th>\n",
       "      <td>6</td>\n",
       "      <td>149</td>\n",
       "      <td>149</td>\n",
       "      <td>150</td>\n",
       "      <td>150</td>\n",
       "      <td>150</td>\n",
       "      <td>151</td>\n",
       "      <td>151</td>\n",
       "      <td>150</td>\n",
       "      <td>151</td>\n",
       "      <td>...</td>\n",
       "      <td>138</td>\n",
       "      <td>148</td>\n",
       "      <td>127</td>\n",
       "      <td>89</td>\n",
       "      <td>82</td>\n",
       "      <td>96</td>\n",
       "      <td>106</td>\n",
       "      <td>112</td>\n",
       "      <td>120</td>\n",
       "      <td>107</td>\n",
       "    </tr>\n",
       "    <tr>\n",
       "      <th>1</th>\n",
       "      <td>5</td>\n",
       "      <td>126</td>\n",
       "      <td>128</td>\n",
       "      <td>131</td>\n",
       "      <td>132</td>\n",
       "      <td>133</td>\n",
       "      <td>134</td>\n",
       "      <td>135</td>\n",
       "      <td>135</td>\n",
       "      <td>136</td>\n",
       "      <td>...</td>\n",
       "      <td>47</td>\n",
       "      <td>104</td>\n",
       "      <td>194</td>\n",
       "      <td>183</td>\n",
       "      <td>186</td>\n",
       "      <td>184</td>\n",
       "      <td>184</td>\n",
       "      <td>184</td>\n",
       "      <td>182</td>\n",
       "      <td>180</td>\n",
       "    </tr>\n",
       "    <tr>\n",
       "      <th>2</th>\n",
       "      <td>10</td>\n",
       "      <td>85</td>\n",
       "      <td>88</td>\n",
       "      <td>92</td>\n",
       "      <td>96</td>\n",
       "      <td>105</td>\n",
       "      <td>123</td>\n",
       "      <td>135</td>\n",
       "      <td>143</td>\n",
       "      <td>147</td>\n",
       "      <td>...</td>\n",
       "      <td>68</td>\n",
       "      <td>166</td>\n",
       "      <td>242</td>\n",
       "      <td>227</td>\n",
       "      <td>230</td>\n",
       "      <td>227</td>\n",
       "      <td>226</td>\n",
       "      <td>225</td>\n",
       "      <td>224</td>\n",
       "      <td>222</td>\n",
       "    </tr>\n",
       "    <tr>\n",
       "      <th>3</th>\n",
       "      <td>0</td>\n",
       "      <td>203</td>\n",
       "      <td>205</td>\n",
       "      <td>207</td>\n",
       "      <td>206</td>\n",
       "      <td>207</td>\n",
       "      <td>209</td>\n",
       "      <td>210</td>\n",
       "      <td>209</td>\n",
       "      <td>210</td>\n",
       "      <td>...</td>\n",
       "      <td>154</td>\n",
       "      <td>248</td>\n",
       "      <td>247</td>\n",
       "      <td>248</td>\n",
       "      <td>253</td>\n",
       "      <td>236</td>\n",
       "      <td>230</td>\n",
       "      <td>240</td>\n",
       "      <td>253</td>\n",
       "      <td>255</td>\n",
       "    </tr>\n",
       "    <tr>\n",
       "      <th>4</th>\n",
       "      <td>3</td>\n",
       "      <td>188</td>\n",
       "      <td>191</td>\n",
       "      <td>193</td>\n",
       "      <td>195</td>\n",
       "      <td>199</td>\n",
       "      <td>201</td>\n",
       "      <td>202</td>\n",
       "      <td>203</td>\n",
       "      <td>203</td>\n",
       "      <td>...</td>\n",
       "      <td>26</td>\n",
       "      <td>40</td>\n",
       "      <td>64</td>\n",
       "      <td>48</td>\n",
       "      <td>29</td>\n",
       "      <td>46</td>\n",
       "      <td>49</td>\n",
       "      <td>46</td>\n",
       "      <td>46</td>\n",
       "      <td>53</td>\n",
       "    </tr>\n",
       "  </tbody>\n",
       "</table>\n",
       "<p>5 rows × 785 columns</p>\n",
       "</div>"
      ],
      "text/plain": [
       "   label  pixel1  pixel2  pixel3  pixel4  pixel5  pixel6  pixel7  pixel8  \\\n",
       "0      6     149     149     150     150     150     151     151     150   \n",
       "1      5     126     128     131     132     133     134     135     135   \n",
       "2     10      85      88      92      96     105     123     135     143   \n",
       "3      0     203     205     207     206     207     209     210     209   \n",
       "4      3     188     191     193     195     199     201     202     203   \n",
       "\n",
       "   pixel9  ...  pixel775  pixel776  pixel777  pixel778  pixel779  pixel780  \\\n",
       "0     151  ...       138       148       127        89        82        96   \n",
       "1     136  ...        47       104       194       183       186       184   \n",
       "2     147  ...        68       166       242       227       230       227   \n",
       "3     210  ...       154       248       247       248       253       236   \n",
       "4     203  ...        26        40        64        48        29        46   \n",
       "\n",
       "   pixel781  pixel782  pixel783  pixel784  \n",
       "0       106       112       120       107  \n",
       "1       184       184       182       180  \n",
       "2       226       225       224       222  \n",
       "3       230       240       253       255  \n",
       "4        49        46        46        53  \n",
       "\n",
       "[5 rows x 785 columns]"
      ]
     },
     "execution_count": 4,
     "metadata": {},
     "output_type": "execute_result"
    }
   ],
   "source": [
    "test_df.head()"
   ]
  },
  {
   "cell_type": "markdown",
   "id": "5d505239",
   "metadata": {},
   "source": [
    "* 총 785개의 열(columns)을 가지는 정형 데이터의 형태로 표현되어 있음\n",
    "* `label`열은 정답 레이블을 의미하며, 나머지 열들은 왼쪽 위부터 이미지의 픽셀값을 0-255로 표현해놓았음\n",
    "* 레이블 열은 제외하고, 나머지 열을 비정형 데이터인 28x28의 이미지 데이터로 변경"
   ]
  },
  {
   "cell_type": "code",
   "execution_count": 5,
   "id": "548f5354",
   "metadata": {},
   "outputs": [],
   "source": [
    "# 훈련데이터/시험데이터 분리\n",
    "train_y = train_df['label'].values\n",
    "train_x = train_df.loc[:, 'pixel1':].values\n",
    "test_y = test_df['label'].values\n",
    "test_x = test_df.loc[:,'pixel1':].values"
   ]
  },
  {
   "cell_type": "code",
   "execution_count": 6,
   "id": "c25d91ea",
   "metadata": {},
   "outputs": [],
   "source": [
    "# reshape as input of DNN model\n",
    "train_x = train_x.reshape((-1,28,28,1))\n",
    "test_x = test_x.reshape((-1,28,28,1))"
   ]
  },
  {
   "cell_type": "code",
   "execution_count": 7,
   "id": "503c794c",
   "metadata": {},
   "outputs": [
    {
     "data": {
      "text/plain": [
       "65"
      ]
     },
     "execution_count": 7,
     "metadata": {},
     "output_type": "execute_result"
    }
   ],
   "source": [
    "# character to ascii code\n",
    "ord('A')"
   ]
  },
  {
   "cell_type": "code",
   "execution_count": 8,
   "id": "f52eb1db",
   "metadata": {},
   "outputs": [],
   "source": [
    "# index to label\n",
    "CLASS_NAMES = []\n",
    "for i in range(26):\n",
    "    c = chr(65 + i)\n",
    "    CLASS_NAMES.append(c)"
   ]
  },
  {
   "cell_type": "code",
   "execution_count": 11,
   "id": "4c292077",
   "metadata": {},
   "outputs": [
    {
     "data": {
      "text/plain": [
       "(-0.5, 27.5, 27.5, -0.5)"
      ]
     },
     "execution_count": 11,
     "metadata": {},
     "output_type": "execute_result"
    },
    {
     "data": {
      "image/png": "[encoded data removed]",
      "text/plain": [
       "<Figure size 200x200 with 1 Axes>"
      ]
     },
     "metadata": {},
     "output_type": "display_data"
    }
   ],
   "source": [
    "# visualize random single sample\n",
    "fig, ax = plt.subplots(1,1,figsize=(2,2))\n",
    "rnd_idx = np.random.randint(low=0, high=train_x.shape[0], size=1)\n",
    "sample_img = train_x[rnd_idx]\n",
    "sample_label = train_y[rnd_idx]\n",
    "ax.imshow(sample_img[0], cmap='gray')\n",
    "ax.set_title(CLASS_NAMES[sample_label[0]])\n",
    "ax.axis('off')"
   ]
  },
  {
   "cell_type": "code",
   "execution_count": 12,
   "id": "e4fdeea0",
   "metadata": {},
   "outputs": [],
   "source": [
    "#  스케일링[0,255] -> [0.,1.]\n",
    "train_x = np.divide(train_x, 255.)\n",
    "test_x = np.divide(test_x, 255.)"
   ]
  },
  {
   "cell_type": "code",
   "execution_count": 45,
   "id": "81e35c9c",
   "metadata": {},
   "outputs": [
    {
     "data": {
      "text/plain": [
       "(0.0, 1.0)"
      ]
     },
     "execution_count": 45,
     "metadata": {},
     "output_type": "execute_result"
    }
   ],
   "source": [
    "np.min(train_x), np.max(train_x)"
   ]
  },
  {
   "cell_type": "code",
   "execution_count": 14,
   "id": "cce8fd86",
   "metadata": {},
   "outputs": [
    {
     "data": {
      "text/plain": [
       "((27455, 26), (7172, 26))"
      ]
     },
     "execution_count": 14,
     "metadata": {},
     "output_type": "execute_result"
    }
   ],
   "source": [
    "# 레이블 : 원핫인코딩\n",
    "from sklearn.preprocessing import OneHotEncoder # 써본적 없음\n",
    "from tensorflow.keras.utils import to_categorical # 제일 쉬움\n",
    "import numpy as np # 제일 빡셈 -> 사실 아니였다?\n",
    "# # numpy 방법\n",
    "# # for i in range(train_x.shape[0]):\n",
    "# train_y = np.eye(len(CLASS_NAMES))[train_y]\n",
    "\n",
    "# # OneHotEncoder\n",
    "# encoder = OneHotEncoder()\n",
    "# train_y_oh = encoder.fit_transform(train_y)\n",
    "# test_y_oh = encoder.transform(test_y)\n",
    "\n",
    "# keras\n",
    "train_y_oh = to_categorical(train_y, num_classes=len(CLASS_NAMES))\n",
    "test_y_oh = to_categorical(test_y, num_classes=len(CLASS_NAMES))\n",
    "train_y_oh.shape, test_y_oh.shape"
   ]
  },
  {
   "cell_type": "code",
   "execution_count": 44,
   "id": "77abb6ff",
   "metadata": {},
   "outputs": [
    {
     "data": {
      "text/plain": [
       "((0, 26), (0, 26))"
      ]
     },
     "execution_count": 44,
     "metadata": {},
     "output_type": "execute_result"
    }
   ],
   "source": [
    "# 9번, 25번 인덱스가 있는지 확인\n",
    "train_y_oh[train_y_oh[:, 25] == 1].shape, test_y_oh[test_y_oh[:, 25] == 1].shape"
   ]
  },
  {
   "cell_type": "code",
   "execution_count": 31,
   "id": "8294632c",
   "metadata": {},
   "outputs": [],
   "source": [
    "# 훈련/검증 분리\n",
    "# from sklearn.model_selection import train_test_split"
   ]
  },
  {
   "cell_type": "code",
   "execution_count": 54,
   "id": "a4c97e60",
   "metadata": {},
   "outputs": [],
   "source": [
    "# modeling\n",
    "model = tf.keras.Sequential()\n",
    "model.add(tf.keras.layers.Conv2D(filters=4,\n",
    "                                 kernel_size=3,\n",
    "                                 strides=1,\n",
    "                                 padding='same',\n",
    "                                activation='relu',\n",
    "                                input_shape=(28,28,1)))\n",
    "model.add(tf.keras.layers.MaxPooling2D(pool_size=2,\n",
    "                                      strides=2))\n",
    "model.add(tf.keras.layers.Conv2D(filters=8,\n",
    "                                kernel_size=3,\n",
    "                                strides=1,\n",
    "                                padding='same',\n",
    "                                activation='relu'))\n",
    "model.add(tf.keras.layers.MaxPooling2D(pool_size=2,\n",
    "                                      strides=2))\n",
    "model.add(tf.keras.layers.Conv2D(filters=16,\n",
    "                                kernel_size=3,\n",
    "                                strides=1,\n",
    "                                padding='same',\n",
    "                                activation='relu'))\n",
    "model.add(tf.keras.layers.MaxPooling2D(pool_size=2,\n",
    "                                      strides=2))\n",
    "model.add(tf.keras.layers.Conv2D(filters=32,\n",
    "                                kernel_size=3,\n",
    "                                strides=1,\n",
    "                                padding='same',\n",
    "                                activation='relu'))\n",
    "model.add(tf.keras.layers.MaxPooling2D(pool_size=2,\n",
    "                                      strides=2))\n",
    "model.add(tf.keras.layers.Flatten())\n",
    "model.add(tf.keras.layers.Dense(48, activation='relu'))\n",
    "model.add(tf.keras.layers.Dense(26, activation='softmax'))"
   ]
  },
  {
   "cell_type": "code",
   "execution_count": 55,
   "id": "acd31917",
   "metadata": {},
   "outputs": [
    {
     "name": "stdout",
     "output_type": "stream",
     "text": [
      "Model: \"sequential_5\"\n",
      "_________________________________________________________________\n",
      "Layer (type)                 Output Shape              Param #   \n",
      "=================================================================\n",
      "conv2d_10 (Conv2D)           (None, 28, 28, 4)         40        \n",
      "_________________________________________________________________\n",
      "max_pooling2d_10 (MaxPooling (None, 14, 14, 4)         0         \n",
      "_________________________________________________________________\n",
      "conv2d_11 (Conv2D)           (None, 14, 14, 8)         296       \n",
      "_________________________________________________________________\n",
      "max_pooling2d_11 (MaxPooling (None, 7, 7, 8)           0         \n",
      "_________________________________________________________________\n",
      "conv2d_12 (Conv2D)           (None, 7, 7, 16)          1168      \n",
      "_________________________________________________________________\n",
      "max_pooling2d_12 (MaxPooling (None, 3, 3, 16)          0         \n",
      "_________________________________________________________________\n",
      "conv2d_13 (Conv2D)           (None, 3, 3, 32)          4640      \n",
      "_________________________________________________________________\n",
      "max_pooling2d_13 (MaxPooling (None, 1, 1, 32)          0         \n",
      "_________________________________________________________________\n",
      "flatten_3 (Flatten)          (None, 32)                0         \n",
      "_________________________________________________________________\n",
      "dense_6 (Dense)              (None, 48)                1584      \n",
      "_________________________________________________________________\n",
      "dense_7 (Dense)              (None, 26)                1274      \n",
      "=================================================================\n",
      "Total params: 9,002\n",
      "Trainable params: 9,002\n",
      "Non-trainable params: 0\n",
      "_________________________________________________________________\n"
     ]
    }
   ],
   "source": [
    "model.summary()"
   ]
  },
  {
   "cell_type": "code",
   "execution_count": 56,
   "id": "f534ef26",
   "metadata": {},
   "outputs": [],
   "source": [
    "model.compile(optimizer='adam', loss='categorical_crossentropy', metrics=['acc'])"
   ]
  },
  {
   "cell_type": "code",
   "execution_count": 57,
   "id": "e4d9fd83",
   "metadata": {},
   "outputs": [
    {
     "name": "stdout",
     "output_type": "stream",
     "text": [
      "Epoch 1/10\n",
      "387/387 [==============================] - 1s 3ms/step - loss: 2.6318 - acc: 0.1886 - val_loss: 1.6968 - val_acc: 0.4366\n",
      "Epoch 2/10\n",
      "387/387 [==============================] - 1s 2ms/step - loss: 1.2365 - acc: 0.5757 - val_loss: 0.9669 - val_acc: 0.6755\n",
      "Epoch 3/10\n",
      "387/387 [==============================] - 1s 2ms/step - loss: 0.6966 - acc: 0.7632 - val_loss: 0.5763 - val_acc: 0.7957\n",
      "Epoch 4/10\n",
      "387/387 [==============================] - 1s 2ms/step - loss: 0.4125 - acc: 0.8606 - val_loss: 0.2990 - val_acc: 0.9057\n",
      "Epoch 5/10\n",
      "387/387 [==============================] - 1s 2ms/step - loss: 0.2548 - acc: 0.9168 - val_loss: 0.2248 - val_acc: 0.9206\n",
      "Epoch 6/10\n",
      "387/387 [==============================] - 1s 2ms/step - loss: 0.1664 - acc: 0.9505 - val_loss: 0.1221 - val_acc: 0.9665\n",
      "Epoch 7/10\n",
      "387/387 [==============================] - 1s 2ms/step - loss: 0.1046 - acc: 0.9724 - val_loss: 0.0687 - val_acc: 0.9847\n",
      "Epoch 8/10\n",
      "387/387 [==============================] - 1s 2ms/step - loss: 0.0812 - acc: 0.9774 - val_loss: 0.0487 - val_acc: 0.9931\n",
      "Epoch 9/10\n",
      "387/387 [==============================] - 1s 2ms/step - loss: 0.0427 - acc: 0.9922 - val_loss: 0.0479 - val_acc: 0.9865\n",
      "Epoch 10/10\n",
      "387/387 [==============================] - 1s 2ms/step - loss: 0.0447 - acc: 0.9885 - val_loss: 0.0315 - val_acc: 0.9945\n"
     ]
    },
    {
     "data": {
      "text/plain": [
       "<tensorflow.python.keras.callbacks.History at 0x18bff524850>"
      ]
     },
     "execution_count": 57,
     "metadata": {},
     "output_type": "execute_result"
    }
   ],
   "source": [
    "model.fit(\n",
    "    x=train_x,\n",
    "    y=train_y_oh,\n",
    "    batch_size=64,\n",
    "    epochs=10,\n",
    "    validation_split=0.1\n",
    ")"
   ]
  },
  {
   "cell_type": "code",
   "execution_count": 58,
   "id": "2c772470",
   "metadata": {},
   "outputs": [
    {
     "name": "stdout",
     "output_type": "stream",
     "text": [
      "225/225 [==============================] - 1s 2ms/step - loss: 0.7682 - acc: 0.8420\n"
     ]
    },
    {
     "data": {
      "text/plain": [
       "[0.7681921720504761, 0.842024564743042]"
      ]
     },
     "execution_count": 58,
     "metadata": {},
     "output_type": "execute_result"
    }
   ],
   "source": [
    "# 예측\n",
    "model.evaluate(test_x, test_y_oh)"
   ]
  },
  {
   "cell_type": "code",
   "execution_count": 59,
   "id": "2f509308",
   "metadata": {},
   "outputs": [],
   "source": [
    "# 시험 및 훈련 데이터셋에 예측 진행\n",
    "test_pred = model.predict(test_x)\n",
    "test_pred = np.argmax(test_pred, axis=1)\n",
    "train_pred = model.predict(train_x)\n",
    "train_pred = np.argmax(train_pred, axis=1)"
   ]
  },
  {
   "cell_type": "code",
   "execution_count": 60,
   "id": "4baa8919",
   "metadata": {},
   "outputs": [],
   "source": [
    "# 성능 평가를 위해 혼잡 행렬 확인\n",
    "from sklearn.metrics import confusion_matrix\n",
    "train_conf = confusion_matrix(y_true=train_y,\n",
    "                y_pred=train_pred)"
   ]
  },
  {
   "cell_type": "code",
   "execution_count": 61,
   "id": "0d96e3ac",
   "metadata": {},
   "outputs": [
    {
     "data": {
      "text/plain": [
       "(24, 24)"
      ]
     },
     "execution_count": 61,
     "metadata": {},
     "output_type": "execute_result"
    }
   ],
   "source": [
    "train_conf.shape"
   ]
  },
  {
   "cell_type": "markdown",
   "id": "a2fe493b",
   "metadata": {},
   "source": [
    "* 2개 클래스에 대한 데이터(`J`,`Z`)가 없기 때문에 혼잡 행렬 역시 26개가 아닌 24개만 출력되는 것을 확인할 수 있음\n",
    "* 그에 대한 레이블 명도 알맞게 조정이 필요함"
   ]
  },
  {
   "cell_type": "code",
   "execution_count": 64,
   "id": "501f6c76",
   "metadata": {},
   "outputs": [
    {
     "data": {
      "text/plain": [
       "'Z'"
      ]
     },
     "execution_count": 64,
     "metadata": {},
     "output_type": "execute_result"
    }
   ],
   "source": [
    "R_CLS_NAMES = CLASS_NAMES.copy()\n",
    "R_CLS_NAMES.pop(9); R_CLS_NAMES.pop(24)"
   ]
  },
  {
   "cell_type": "code",
   "execution_count": 78,
   "id": "78dfb433",
   "metadata": {},
   "outputs": [
    {
     "data": {
      "image/png": "[encoded data removed]",
      "text/plain": [
       "<Figure size 1200x1200 with 2 Axes>"
      ]
     },
     "metadata": {},
     "output_type": "display_data"
    }
   ],
   "source": [
    "import seaborn as sns\n",
    "import matplotlib as mpl\n",
    "\n",
    "font = {'family' : 'DejaVu Sans',\n",
    "        'weight' : 'regular',\n",
    "        'size'   : 7}\n",
    "\n",
    "mpl.rc('font', **font)\n",
    "\n",
    "fig, ax = plt.subplots(1,1,figsize=(12,12))\n",
    "sns.heatmap(train_conf, annot=True, fmt='4d', ax=ax)\n",
    "ax.set(xticklabels=R_CLS_NAMES, yticklabels=R_CLS_NAMES)\n",
    "ax.tick_params(axis='both', which='major', labelsize=10)\n",
    "plt.show()"
   ]
  },
  {
   "cell_type": "code",
   "execution_count": 80,
   "id": "aa6f5313",
   "metadata": {},
   "outputs": [
    {
     "data": {
      "image/png": "[encoded data removed]",
      "text/plain": [
       "<Figure size 1200x1200 with 2 Axes>"
      ]
     },
     "metadata": {},
     "output_type": "display_data"
    }
   ],
   "source": [
    "# 시험 데이터에도 확인해 봅시다\n",
    "# 성능 평가를 위해 혼잡 행렬 확인\n",
    "test_conf = confusion_matrix(y_true=test_y,\n",
    "                y_pred=test_pred)\n",
    "fig, ax = plt.subplots(1,1,figsize=(12,12))\n",
    "sns.heatmap(test_conf, annot=True, fmt='4d', ax=ax)\n",
    "ax.set(xticklabels=R_CLS_NAMES, yticklabels=R_CLS_NAMES)\n",
    "ax.tick_params(axis='both', which='major', labelsize=10)\n",
    "plt.show()"
   ]
  },
  {
   "cell_type": "markdown",
   "id": "56eca398",
   "metadata": {},
   "source": [
    "* 훈련 데이터에는 대체로 성능이 좋으나 시험 데이터에는 훈련시 만큼의 성능을 보여주지 못함\n",
    "* 혼잡행렬 확인 결과 `V`를 `R`로 잘못 예측하는 경우가 상당수를 차지\n",
    "* 이 외에도, 다음과 같은 문제가 산재\n",
    "    - `T`를 `G`로\n",
    "    - `B`를 `U`로\n",
    "    - `L`을 `C`로"
   ]
  },
  {
   "cell_type": "code",
   "execution_count": 93,
   "id": "c2c8774c",
   "metadata": {},
   "outputs": [],
   "source": [
    "# 틀린 데이터 가져오기\n",
    "incorr_mask = (test_y != test_pred)\n",
    "incorr_x = test_x[incorr_mask]\n",
    "incorr_y = test_y[incorr_mask]\n",
    "incorr_y_hat = test_pred[incorr_mask]"
   ]
  },
  {
   "cell_type": "code",
   "execution_count": 94,
   "id": "55dbf13c",
   "metadata": {},
   "outputs": [
    {
     "data": {
      "text/plain": [
       "((7172, 28, 28, 1), (1133, 28, 28, 1))"
      ]
     },
     "execution_count": 94,
     "metadata": {},
     "output_type": "execute_result"
    }
   ],
   "source": [
    "test_x.shape, incorr_x.shape"
   ]
  },
  {
   "cell_type": "code",
   "execution_count": 104,
   "id": "92d42b91",
   "metadata": {},
   "outputs": [
    {
     "data": {
      "image/png": "[encoded data removed]",
      "text/plain": [
       "<Figure size 1200x900 with 12 Axes>"
      ]
     },
     "metadata": {},
     "output_type": "display_data"
    }
   ],
   "source": [
    "# 틀린 데이터 시각화\n",
    "num_samples = 10\n",
    "rand_idx = np.random.choice(np.arange(incorr_x.shape[0]), 10)\n",
    "samples = incorr_x[rand_idx]\n",
    "preds = incorr_y_hat[rand_idx] \n",
    "labels = incorr_y[rand_idx]\n",
    "\n",
    "samples_per_row = 3\n",
    "nrows = int(np.ceil(num_samples/samples_per_row))\n",
    "fig, axes = plt.subplots(nrows=nrows,\n",
    "                         ncols=samples_per_row,\n",
    "                        figsize=(3*nrows,3*samples_per_row))\n",
    "for i in range(nrows):\n",
    "    for j in range(samples_per_row):\n",
    "        try:\n",
    "            axes[i,j].imshow(incorr_x[i*nrows + j], cmap='gray')\n",
    "            axes[i,j].set_title(f'pred:{CLASS_NAMES[preds[i*nrows + j]]} / label:{CLASS_NAMES[labels[i*nrows + j]]}')\n",
    "            axes[i,j].axis('off')\n",
    "        except IndexError as _:\n",
    "            axes[i,j].imshow(np.ones((28,28,1), dtype=np.uint8)*255, cmap='gray')\n",
    "            axes[i,j].axis('off')"
   ]
  },
  {
   "cell_type": "markdown",
   "id": "0957eac1",
   "metadata": {},
   "source": [
    "* 위 예측 결과를 분석하여 개선방안을 모색해 봅시다"
   ]
  }
 ],
 "metadata": {
  "kernelspec": {
   "display_name": "Python 3 (ipykernel)",
   "language": "python",
   "name": "python3"
  },
  "language_info": {
   "codemirror_mode": {
    "name": "ipython",
    "version": 3
   },
   "file_extension": ".py",
   "mimetype": "text/x-python",
   "name": "python",
   "nbconvert_exporter": "python",
   "pygments_lexer": "ipython3",
   "version": "3.8.16"
  }
 },
 "nbformat": 4,
 "nbformat_minor": 5
}
