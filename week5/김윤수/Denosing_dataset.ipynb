{
 "cells": [
  {
   "cell_type": "code",
   "execution_count": 25,
   "id": "fa71006b",
   "metadata": {},
   "outputs": [],
   "source": [
    "import cv2\n",
    "import numpy as np\n",
    "import os, glob\n",
    "import matplotlib.pyplot as plt"
   ]
  },
  {
   "cell_type": "code",
   "execution_count": 5,
   "id": "31ad9ae8",
   "metadata": {},
   "outputs": [],
   "source": [
    "ORG_DATA_PATH = './Dataset/Original/'\n",
    "NIS_DATA_PATH = './Dataset/Noisy/'"
   ]
  },
  {
   "cell_type": "code",
   "execution_count": 11,
   "id": "16113467",
   "metadata": {},
   "outputs": [],
   "source": [
    "# glob.glob('./Dataset/Original/*.jpg')"
   ]
  },
  {
   "cell_type": "code",
   "execution_count": 12,
   "id": "24b4093e",
   "metadata": {},
   "outputs": [],
   "source": [
    "org_filelist = [p for p in os.listdir(ORG_DATA_PATH) if p.endswith('.jpg')]"
   ]
  },
  {
   "cell_type": "code",
   "execution_count": 17,
   "id": "e0aca99e",
   "metadata": {},
   "outputs": [
    {
     "data": {
      "text/plain": [
       "'./Dataset/Original/cat.0.jpg'"
      ]
     },
     "execution_count": 17,
     "metadata": {},
     "output_type": "execute_result"
    }
   ],
   "source": [
    "os.path.join(ORG_DATA_PATH, org_filelist[0])"
   ]
  },
  {
   "cell_type": "code",
   "execution_count": 34,
   "id": "3462a1d8",
   "metadata": {},
   "outputs": [],
   "source": [
    "from tqdm.auto import tqdm"
   ]
  },
  {
   "cell_type": "code",
   "execution_count": 35,
   "id": "e1601dc9",
   "metadata": {},
   "outputs": [
    {
     "data": {
      "application/vnd.jupyter.widget-view+json": {
       "model_id": "9014f3982fba4fe58abe8891ce95cce6",
       "version_major": 2,
       "version_minor": 0
      },
      "text/plain": [
       "  0%|          | 0/2614 [00:00<?, ?it/s]"
      ]
     },
     "metadata": {},
     "output_type": "display_data"
    }
   ],
   "source": [
    "for p in tqdm(org_filelist):\n",
    "    # read image\n",
    "    img = cv2.imread(os.path.join(ORG_DATA_PATH, p))\n",
    "    img = np.divide(img, 255.)\n",
    "    # add noise\n",
    "    noise = np.random.normal(size=img.shape)\n",
    "    noise = noise * 0.2\n",
    "    # clip and rescale\n",
    "    noisy_img = np.clip(img + noise, a_min=0., a_max=1.)\n",
    "    noisy_img = (noisy_img * 255).astype(np.uint8)\n",
    "    \n",
    "#     noisy_img = cv2.cvtColor(noisy_img, code=cv2.COLOR_BGR2RGB)\n",
    "#     plt.imshow(noisy_img)\n",
    "\n",
    "    # save\n",
    "    cv2.imwrite(filename=os.path.join(NIS_DATA_PATH, p), img=noisy_img)"
   ]
  },
  {
   "cell_type": "code",
   "execution_count": null,
   "id": "95849a36",
   "metadata": {},
   "outputs": [],
   "source": []
  }
 ],
 "metadata": {
  "kernelspec": {
   "display_name": "Python 3 (ipykernel)",
   "language": "python",
   "name": "python3"
  },
  "language_info": {
   "codemirror_mode": {
    "name": "ipython",
    "version": 3
   },
   "file_extension": ".py",
   "mimetype": "text/x-python",
   "name": "python",
   "nbconvert_exporter": "python",
   "pygments_lexer": "ipython3",
   "version": "3.8.16"
  }
 },
 "nbformat": 4,
 "nbformat_minor": 5
}
